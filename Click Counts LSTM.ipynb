{
  "cells": [
    {
      "cell_type": "code",
      "execution_count": 26,
      "metadata": {
        "id": "0HMQzqraUSOj"
      },
      "outputs": [],
      "source": [
        "import numpy\n",
        "import pandas as pd\n",
        "import matplotlib.pyplot as plt\n",
        "import math\n",
        "\n",
        "import requests\n",
        "\n",
        "import seaborn as sns\n",
        "import datetime\n",
        "\n",
        "from keras.models import Sequential\n",
        "from keras.layers import Dense\n",
        "from keras.layers import LSTM\n",
        "from sklearn.preprocessing import MinMaxScaler\n",
        "from sklearn.metrics import mean_squared_error\n",
        "\n"
      ]
    },
    {
      "cell_type": "code",
      "execution_count": 27,
      "metadata": {
        "id": "ayKMi9-IwOaS"
      },
      "outputs": [],
      "source": [
        "df=pd.read_csv('https://raw.githubusercontent.com/DavidGlezGmz/Time-Series/main/Click%20Counts.csv')"
      ]
    },
    {
      "cell_type": "code",
      "execution_count": 28,
      "metadata": {
        "colab": {
          "base_uri": "https://localhost:8080/"
        },
        "id": "ZUcujhbOxAOA",
        "outputId": "7e5cc506-5988-4dea-a80a-85b859eff841"
      },
      "outputs": [
        {
          "output_type": "execute_result",
          "data": {
            "text/plain": [
              "Index(['Date', 'Click_Count'], dtype='object')"
            ]
          },
          "metadata": {},
          "execution_count": 28
        }
      ],
      "source": [
        "df.columns"
      ]
    },
    {
      "cell_type": "code",
      "execution_count": 29,
      "metadata": {
        "colab": {
          "base_uri": "https://localhost:8080/",
          "height": 424
        },
        "id": "GAChh565qPXv",
        "outputId": "9c5569f6-bf57-4433-babe-5991c67cdb43"
      },
      "outputs": [
        {
          "output_type": "execute_result",
          "data": {
            "text/plain": [
              "                 ds  Click_Count\n",
              "0     01/01/16 0:00      2093576\n",
              "1     02/01/16 0:00      2093576\n",
              "2     03/01/16 0:00      2093576\n",
              "3     04/01/16 0:00      2093576\n",
              "4     05/01/16 0:00      2093576\n",
              "...             ...          ...\n",
              "1280  04/07/19 0:00      2174217\n",
              "1281  05/07/19 0:00      2530250\n",
              "1282  06/07/19 0:00      2510980\n",
              "1283  07/07/19 0:00      2032842\n",
              "1284  08/07/19 0:00      2291760\n",
              "\n",
              "[1285 rows x 2 columns]"
            ],
            "text/html": [
              "\n",
              "  <div id=\"df-1fdf218f-e51a-48df-be7d-446b04e88861\">\n",
              "    <div class=\"colab-df-container\">\n",
              "      <div>\n",
              "<style scoped>\n",
              "    .dataframe tbody tr th:only-of-type {\n",
              "        vertical-align: middle;\n",
              "    }\n",
              "\n",
              "    .dataframe tbody tr th {\n",
              "        vertical-align: top;\n",
              "    }\n",
              "\n",
              "    .dataframe thead th {\n",
              "        text-align: right;\n",
              "    }\n",
              "</style>\n",
              "<table border=\"1\" class=\"dataframe\">\n",
              "  <thead>\n",
              "    <tr style=\"text-align: right;\">\n",
              "      <th></th>\n",
              "      <th>ds</th>\n",
              "      <th>Click_Count</th>\n",
              "    </tr>\n",
              "  </thead>\n",
              "  <tbody>\n",
              "    <tr>\n",
              "      <th>0</th>\n",
              "      <td>01/01/16 0:00</td>\n",
              "      <td>2093576</td>\n",
              "    </tr>\n",
              "    <tr>\n",
              "      <th>1</th>\n",
              "      <td>02/01/16 0:00</td>\n",
              "      <td>2093576</td>\n",
              "    </tr>\n",
              "    <tr>\n",
              "      <th>2</th>\n",
              "      <td>03/01/16 0:00</td>\n",
              "      <td>2093576</td>\n",
              "    </tr>\n",
              "    <tr>\n",
              "      <th>3</th>\n",
              "      <td>04/01/16 0:00</td>\n",
              "      <td>2093576</td>\n",
              "    </tr>\n",
              "    <tr>\n",
              "      <th>4</th>\n",
              "      <td>05/01/16 0:00</td>\n",
              "      <td>2093576</td>\n",
              "    </tr>\n",
              "    <tr>\n",
              "      <th>...</th>\n",
              "      <td>...</td>\n",
              "      <td>...</td>\n",
              "    </tr>\n",
              "    <tr>\n",
              "      <th>1280</th>\n",
              "      <td>04/07/19 0:00</td>\n",
              "      <td>2174217</td>\n",
              "    </tr>\n",
              "    <tr>\n",
              "      <th>1281</th>\n",
              "      <td>05/07/19 0:00</td>\n",
              "      <td>2530250</td>\n",
              "    </tr>\n",
              "    <tr>\n",
              "      <th>1282</th>\n",
              "      <td>06/07/19 0:00</td>\n",
              "      <td>2510980</td>\n",
              "    </tr>\n",
              "    <tr>\n",
              "      <th>1283</th>\n",
              "      <td>07/07/19 0:00</td>\n",
              "      <td>2032842</td>\n",
              "    </tr>\n",
              "    <tr>\n",
              "      <th>1284</th>\n",
              "      <td>08/07/19 0:00</td>\n",
              "      <td>2291760</td>\n",
              "    </tr>\n",
              "  </tbody>\n",
              "</table>\n",
              "<p>1285 rows × 2 columns</p>\n",
              "</div>\n",
              "      <button class=\"colab-df-convert\" onclick=\"convertToInteractive('df-1fdf218f-e51a-48df-be7d-446b04e88861')\"\n",
              "              title=\"Convert this dataframe to an interactive table.\"\n",
              "              style=\"display:none;\">\n",
              "        \n",
              "  <svg xmlns=\"http://www.w3.org/2000/svg\" height=\"24px\"viewBox=\"0 0 24 24\"\n",
              "       width=\"24px\">\n",
              "    <path d=\"M0 0h24v24H0V0z\" fill=\"none\"/>\n",
              "    <path d=\"M18.56 5.44l.94 2.06.94-2.06 2.06-.94-2.06-.94-.94-2.06-.94 2.06-2.06.94zm-11 1L8.5 8.5l.94-2.06 2.06-.94-2.06-.94L8.5 2.5l-.94 2.06-2.06.94zm10 10l.94 2.06.94-2.06 2.06-.94-2.06-.94-.94-2.06-.94 2.06-2.06.94z\"/><path d=\"M17.41 7.96l-1.37-1.37c-.4-.4-.92-.59-1.43-.59-.52 0-1.04.2-1.43.59L10.3 9.45l-7.72 7.72c-.78.78-.78 2.05 0 2.83L4 21.41c.39.39.9.59 1.41.59.51 0 1.02-.2 1.41-.59l7.78-7.78 2.81-2.81c.8-.78.8-2.07 0-2.86zM5.41 20L4 18.59l7.72-7.72 1.47 1.35L5.41 20z\"/>\n",
              "  </svg>\n",
              "      </button>\n",
              "      \n",
              "  <style>\n",
              "    .colab-df-container {\n",
              "      display:flex;\n",
              "      flex-wrap:wrap;\n",
              "      gap: 12px;\n",
              "    }\n",
              "\n",
              "    .colab-df-convert {\n",
              "      background-color: #E8F0FE;\n",
              "      border: none;\n",
              "      border-radius: 50%;\n",
              "      cursor: pointer;\n",
              "      display: none;\n",
              "      fill: #1967D2;\n",
              "      height: 32px;\n",
              "      padding: 0 0 0 0;\n",
              "      width: 32px;\n",
              "    }\n",
              "\n",
              "    .colab-df-convert:hover {\n",
              "      background-color: #E2EBFA;\n",
              "      box-shadow: 0px 1px 2px rgba(60, 64, 67, 0.3), 0px 1px 3px 1px rgba(60, 64, 67, 0.15);\n",
              "      fill: #174EA6;\n",
              "    }\n",
              "\n",
              "    [theme=dark] .colab-df-convert {\n",
              "      background-color: #3B4455;\n",
              "      fill: #D2E3FC;\n",
              "    }\n",
              "\n",
              "    [theme=dark] .colab-df-convert:hover {\n",
              "      background-color: #434B5C;\n",
              "      box-shadow: 0px 1px 3px 1px rgba(0, 0, 0, 0.15);\n",
              "      filter: drop-shadow(0px 1px 2px rgba(0, 0, 0, 0.3));\n",
              "      fill: #FFFFFF;\n",
              "    }\n",
              "  </style>\n",
              "\n",
              "      <script>\n",
              "        const buttonEl =\n",
              "          document.querySelector('#df-1fdf218f-e51a-48df-be7d-446b04e88861 button.colab-df-convert');\n",
              "        buttonEl.style.display =\n",
              "          google.colab.kernel.accessAllowed ? 'block' : 'none';\n",
              "\n",
              "        async function convertToInteractive(key) {\n",
              "          const element = document.querySelector('#df-1fdf218f-e51a-48df-be7d-446b04e88861');\n",
              "          const dataTable =\n",
              "            await google.colab.kernel.invokeFunction('convertToInteractive',\n",
              "                                                     [key], {});\n",
              "          if (!dataTable) return;\n",
              "\n",
              "          const docLinkHtml = 'Like what you see? Visit the ' +\n",
              "            '<a target=\"_blank\" href=https://colab.research.google.com/notebooks/data_table.ipynb>data table notebook</a>'\n",
              "            + ' to learn more about interactive tables.';\n",
              "          element.innerHTML = '';\n",
              "          dataTable['output_type'] = 'display_data';\n",
              "          await google.colab.output.renderOutput(dataTable, element);\n",
              "          const docLink = document.createElement('div');\n",
              "          docLink.innerHTML = docLinkHtml;\n",
              "          element.appendChild(docLink);\n",
              "        }\n",
              "      </script>\n",
              "    </div>\n",
              "  </div>\n",
              "  "
            ]
          },
          "metadata": {},
          "execution_count": 29
        }
      ],
      "source": [
        "df=df.rename(columns={'Date':'ds','Click Count':'y'})\n",
        "df"
      ]
    },
    {
      "cell_type": "code",
      "execution_count": 30,
      "metadata": {
        "id": "oUAZVMGWu-Y5"
      },
      "outputs": [],
      "source": [
        "Count = df.drop(['ds'], axis=1)"
      ]
    },
    {
      "cell_type": "code",
      "execution_count": 31,
      "metadata": {
        "colab": {
          "base_uri": "https://localhost:8080/",
          "height": 424
        },
        "id": "Er5v85odz2qs",
        "outputId": "8493e4d2-9697-4b35-93c2-c499b723c6f9"
      },
      "outputs": [
        {
          "output_type": "execute_result",
          "data": {
            "text/plain": [
              "      Click_Count\n",
              "0         2093576\n",
              "1         2093576\n",
              "2         2093576\n",
              "3         2093576\n",
              "4         2093576\n",
              "...           ...\n",
              "1280      2174217\n",
              "1281      2530250\n",
              "1282      2510980\n",
              "1283      2032842\n",
              "1284      2291760\n",
              "\n",
              "[1285 rows x 1 columns]"
            ],
            "text/html": [
              "\n",
              "  <div id=\"df-cec0b64b-5da6-447e-8be7-b38918e6d681\">\n",
              "    <div class=\"colab-df-container\">\n",
              "      <div>\n",
              "<style scoped>\n",
              "    .dataframe tbody tr th:only-of-type {\n",
              "        vertical-align: middle;\n",
              "    }\n",
              "\n",
              "    .dataframe tbody tr th {\n",
              "        vertical-align: top;\n",
              "    }\n",
              "\n",
              "    .dataframe thead th {\n",
              "        text-align: right;\n",
              "    }\n",
              "</style>\n",
              "<table border=\"1\" class=\"dataframe\">\n",
              "  <thead>\n",
              "    <tr style=\"text-align: right;\">\n",
              "      <th></th>\n",
              "      <th>Click_Count</th>\n",
              "    </tr>\n",
              "  </thead>\n",
              "  <tbody>\n",
              "    <tr>\n",
              "      <th>0</th>\n",
              "      <td>2093576</td>\n",
              "    </tr>\n",
              "    <tr>\n",
              "      <th>1</th>\n",
              "      <td>2093576</td>\n",
              "    </tr>\n",
              "    <tr>\n",
              "      <th>2</th>\n",
              "      <td>2093576</td>\n",
              "    </tr>\n",
              "    <tr>\n",
              "      <th>3</th>\n",
              "      <td>2093576</td>\n",
              "    </tr>\n",
              "    <tr>\n",
              "      <th>4</th>\n",
              "      <td>2093576</td>\n",
              "    </tr>\n",
              "    <tr>\n",
              "      <th>...</th>\n",
              "      <td>...</td>\n",
              "    </tr>\n",
              "    <tr>\n",
              "      <th>1280</th>\n",
              "      <td>2174217</td>\n",
              "    </tr>\n",
              "    <tr>\n",
              "      <th>1281</th>\n",
              "      <td>2530250</td>\n",
              "    </tr>\n",
              "    <tr>\n",
              "      <th>1282</th>\n",
              "      <td>2510980</td>\n",
              "    </tr>\n",
              "    <tr>\n",
              "      <th>1283</th>\n",
              "      <td>2032842</td>\n",
              "    </tr>\n",
              "    <tr>\n",
              "      <th>1284</th>\n",
              "      <td>2291760</td>\n",
              "    </tr>\n",
              "  </tbody>\n",
              "</table>\n",
              "<p>1285 rows × 1 columns</p>\n",
              "</div>\n",
              "      <button class=\"colab-df-convert\" onclick=\"convertToInteractive('df-cec0b64b-5da6-447e-8be7-b38918e6d681')\"\n",
              "              title=\"Convert this dataframe to an interactive table.\"\n",
              "              style=\"display:none;\">\n",
              "        \n",
              "  <svg xmlns=\"http://www.w3.org/2000/svg\" height=\"24px\"viewBox=\"0 0 24 24\"\n",
              "       width=\"24px\">\n",
              "    <path d=\"M0 0h24v24H0V0z\" fill=\"none\"/>\n",
              "    <path d=\"M18.56 5.44l.94 2.06.94-2.06 2.06-.94-2.06-.94-.94-2.06-.94 2.06-2.06.94zm-11 1L8.5 8.5l.94-2.06 2.06-.94-2.06-.94L8.5 2.5l-.94 2.06-2.06.94zm10 10l.94 2.06.94-2.06 2.06-.94-2.06-.94-.94-2.06-.94 2.06-2.06.94z\"/><path d=\"M17.41 7.96l-1.37-1.37c-.4-.4-.92-.59-1.43-.59-.52 0-1.04.2-1.43.59L10.3 9.45l-7.72 7.72c-.78.78-.78 2.05 0 2.83L4 21.41c.39.39.9.59 1.41.59.51 0 1.02-.2 1.41-.59l7.78-7.78 2.81-2.81c.8-.78.8-2.07 0-2.86zM5.41 20L4 18.59l7.72-7.72 1.47 1.35L5.41 20z\"/>\n",
              "  </svg>\n",
              "      </button>\n",
              "      \n",
              "  <style>\n",
              "    .colab-df-container {\n",
              "      display:flex;\n",
              "      flex-wrap:wrap;\n",
              "      gap: 12px;\n",
              "    }\n",
              "\n",
              "    .colab-df-convert {\n",
              "      background-color: #E8F0FE;\n",
              "      border: none;\n",
              "      border-radius: 50%;\n",
              "      cursor: pointer;\n",
              "      display: none;\n",
              "      fill: #1967D2;\n",
              "      height: 32px;\n",
              "      padding: 0 0 0 0;\n",
              "      width: 32px;\n",
              "    }\n",
              "\n",
              "    .colab-df-convert:hover {\n",
              "      background-color: #E2EBFA;\n",
              "      box-shadow: 0px 1px 2px rgba(60, 64, 67, 0.3), 0px 1px 3px 1px rgba(60, 64, 67, 0.15);\n",
              "      fill: #174EA6;\n",
              "    }\n",
              "\n",
              "    [theme=dark] .colab-df-convert {\n",
              "      background-color: #3B4455;\n",
              "      fill: #D2E3FC;\n",
              "    }\n",
              "\n",
              "    [theme=dark] .colab-df-convert:hover {\n",
              "      background-color: #434B5C;\n",
              "      box-shadow: 0px 1px 3px 1px rgba(0, 0, 0, 0.15);\n",
              "      filter: drop-shadow(0px 1px 2px rgba(0, 0, 0, 0.3));\n",
              "      fill: #FFFFFF;\n",
              "    }\n",
              "  </style>\n",
              "\n",
              "      <script>\n",
              "        const buttonEl =\n",
              "          document.querySelector('#df-cec0b64b-5da6-447e-8be7-b38918e6d681 button.colab-df-convert');\n",
              "        buttonEl.style.display =\n",
              "          google.colab.kernel.accessAllowed ? 'block' : 'none';\n",
              "\n",
              "        async function convertToInteractive(key) {\n",
              "          const element = document.querySelector('#df-cec0b64b-5da6-447e-8be7-b38918e6d681');\n",
              "          const dataTable =\n",
              "            await google.colab.kernel.invokeFunction('convertToInteractive',\n",
              "                                                     [key], {});\n",
              "          if (!dataTable) return;\n",
              "\n",
              "          const docLinkHtml = 'Like what you see? Visit the ' +\n",
              "            '<a target=\"_blank\" href=https://colab.research.google.com/notebooks/data_table.ipynb>data table notebook</a>'\n",
              "            + ' to learn more about interactive tables.';\n",
              "          element.innerHTML = '';\n",
              "          dataTable['output_type'] = 'display_data';\n",
              "          await google.colab.output.renderOutput(dataTable, element);\n",
              "          const docLink = document.createElement('div');\n",
              "          docLink.innerHTML = docLinkHtml;\n",
              "          element.appendChild(docLink);\n",
              "        }\n",
              "      </script>\n",
              "    </div>\n",
              "  </div>\n",
              "  "
            ]
          },
          "metadata": {},
          "execution_count": 31
        }
      ],
      "source": [
        "Count"
      ]
    },
    {
      "cell_type": "code",
      "execution_count": 32,
      "metadata": {
        "colab": {
          "base_uri": "https://localhost:8080/"
        },
        "id": "f_h9X5Day_WY",
        "outputId": "a1d2bce3-0c88-4863-91c1-80caa1fd4311"
      },
      "outputs": [
        {
          "output_type": "execute_result",
          "data": {
            "text/plain": [
              "(1285, 1)"
            ]
          },
          "metadata": {},
          "execution_count": 32
        }
      ],
      "source": [
        "Count.shape"
      ]
    },
    {
      "cell_type": "code",
      "execution_count": 33,
      "metadata": {
        "colab": {
          "base_uri": "https://localhost:8080/"
        },
        "id": "yVW8TeCxvemx",
        "outputId": "034fba56-22b9-40e0-bd72-bd59d3a18f40"
      },
      "outputs": [
        {
          "output_type": "stream",
          "name": "stdout",
          "text": [
            "[[2093576.]\n",
            " [2093576.]\n",
            " [2093576.]\n",
            " ...\n",
            " [2510980.]\n",
            " [2032842.]\n",
            " [2291760.]]\n"
          ]
        }
      ],
      "source": [
        "Count = Count.values\n",
        "Count = Count.astype('float32')\n",
        "print(Count)"
      ]
    },
    {
      "cell_type": "code",
      "execution_count": 34,
      "metadata": {
        "id": "NRp7wiV3ii3J"
      },
      "outputs": [],
      "source": [
        "# fix random seed for reproducibility\n",
        "numpy.random.seed(7)"
      ]
    },
    {
      "cell_type": "code",
      "execution_count": 35,
      "metadata": {
        "colab": {
          "base_uri": "https://localhost:8080/"
        },
        "id": "oPC5ClqGi5MX",
        "outputId": "39bc362e-ce32-4f75-cecc-de9cd0fd9be2"
      },
      "outputs": [
        {
          "output_type": "stream",
          "name": "stdout",
          "text": [
            "[[0.15265204]\n",
            " [0.15265204]\n",
            " [0.15265204]\n",
            " ...\n",
            " [0.18308686]\n",
            " [0.14822365]\n",
            " [0.16710253]]\n"
          ]
        }
      ],
      "source": [
        "# normalize the dataset\n",
        "scaler = MinMaxScaler(feature_range=(0, 1))\n",
        "dataset = scaler.fit_transform(Count)\n",
        "print(dataset)"
      ]
    },
    {
      "cell_type": "code",
      "execution_count": 36,
      "metadata": {
        "colab": {
          "base_uri": "https://localhost:8080/"
        },
        "id": "qn-ap0PpYf8Y",
        "outputId": "42d20e92-6e7a-4fd1-acd9-4d444a957b4c"
      },
      "outputs": [
        {
          "output_type": "stream",
          "name": "stdout",
          "text": [
            "860 425\n"
          ]
        }
      ],
      "source": [
        "# split into train and test sets\n",
        "train_size = int(len(dataset) * 0.67)\n",
        "test_size = len(dataset) - train_size\n",
        "train, test = dataset[0:train_size,:], dataset[train_size:len(dataset),:]\n",
        "print(len(train), len(test))"
      ]
    },
    {
      "cell_type": "code",
      "execution_count": 37,
      "metadata": {
        "id": "PNIkOW1hZw8j"
      },
      "outputs": [],
      "source": [
        "# convert an array of values into a dataset matrix\n",
        "def create_dataset(dataset, look_back=1):\n",
        "\tdataX, dataY = [], []\n",
        "\tfor i in range(len(dataset)-look_back-1):\n",
        "\t\ta = dataset[i:(i+look_back), 0]\n",
        "\t\tdataX.append(a)\n",
        "\t\tdataY.append(dataset[i + look_back, 0])\n",
        "\treturn numpy.array(dataX), numpy.array(dataY)"
      ]
    },
    {
      "cell_type": "code",
      "execution_count": 38,
      "metadata": {
        "colab": {
          "base_uri": "https://localhost:8080/"
        },
        "id": "D-ik3XqvZ0lq",
        "outputId": "3345bbdb-d8e3-45a2-d062-859f05affb9e"
      },
      "outputs": [
        {
          "output_type": "stream",
          "name": "stdout",
          "text": [
            "[[0.18581706]\n",
            " [0.21914105]\n",
            " [0.2570144 ]]\n"
          ]
        }
      ],
      "source": [
        "# reshape into X=t and Y=t+1\n",
        "look_back = 1\n",
        "trainX, trainY = create_dataset(train, look_back)\n",
        "testX, testY = create_dataset(test, look_back)\n",
        "print(testX[:3])"
      ]
    },
    {
      "cell_type": "code",
      "execution_count": 39,
      "metadata": {
        "id": "WHmOOklmb1yJ"
      },
      "outputs": [],
      "source": [
        "# reshape input to be [samples, time steps, features]\n",
        "trainX = numpy.reshape(trainX, (trainX.shape[0], 1, trainX.shape[1]))\n",
        "testX = numpy.reshape(testX, (testX.shape[0], 1, testX.shape[1]))"
      ]
    },
    {
      "cell_type": "code",
      "execution_count": 40,
      "metadata": {
        "colab": {
          "base_uri": "https://localhost:8080/"
        },
        "id": "uiRTgBh3cXsU",
        "outputId": "0652d4b8-351a-4c5a-c9de-4430e83f0443"
      },
      "outputs": [
        {
          "output_type": "stream",
          "name": "stdout",
          "text": [
            "Epoch 1/100\n",
            "858/858 - 6s - loss: 0.0073 - 6s/epoch - 7ms/step\n",
            "Epoch 2/100\n",
            "858/858 - 2s - loss: 0.0049 - 2s/epoch - 2ms/step\n",
            "Epoch 3/100\n",
            "858/858 - 2s - loss: 0.0039 - 2s/epoch - 2ms/step\n",
            "Epoch 4/100\n",
            "858/858 - 2s - loss: 0.0030 - 2s/epoch - 2ms/step\n",
            "Epoch 5/100\n",
            "858/858 - 1s - loss: 0.0023 - 1s/epoch - 1ms/step\n",
            "Epoch 6/100\n",
            "858/858 - 1s - loss: 0.0017 - 1s/epoch - 1ms/step\n",
            "Epoch 7/100\n",
            "858/858 - 1s - loss: 0.0015 - 1s/epoch - 1ms/step\n",
            "Epoch 8/100\n",
            "858/858 - 1s - loss: 0.0014 - 1s/epoch - 1ms/step\n",
            "Epoch 9/100\n",
            "858/858 - 1s - loss: 0.0013 - 1s/epoch - 1ms/step\n",
            "Epoch 10/100\n",
            "858/858 - 1s - loss: 0.0014 - 1s/epoch - 1ms/step\n",
            "Epoch 11/100\n",
            "858/858 - 1s - loss: 0.0014 - 1s/epoch - 1ms/step\n",
            "Epoch 12/100\n",
            "858/858 - 1s - loss: 0.0013 - 1s/epoch - 1ms/step\n",
            "Epoch 13/100\n",
            "858/858 - 1s - loss: 0.0013 - 1s/epoch - 1ms/step\n",
            "Epoch 14/100\n",
            "858/858 - 1s - loss: 0.0013 - 1s/epoch - 1ms/step\n",
            "Epoch 15/100\n",
            "858/858 - 1s - loss: 0.0013 - 1s/epoch - 1ms/step\n",
            "Epoch 16/100\n",
            "858/858 - 1s - loss: 0.0013 - 1s/epoch - 1ms/step\n",
            "Epoch 17/100\n",
            "858/858 - 1s - loss: 0.0013 - 1s/epoch - 1ms/step\n",
            "Epoch 18/100\n",
            "858/858 - 1s - loss: 0.0013 - 1s/epoch - 1ms/step\n",
            "Epoch 19/100\n",
            "858/858 - 1s - loss: 0.0013 - 1s/epoch - 1ms/step\n",
            "Epoch 20/100\n",
            "858/858 - 1s - loss: 0.0013 - 1s/epoch - 1ms/step\n",
            "Epoch 21/100\n",
            "858/858 - 1s - loss: 0.0013 - 1s/epoch - 1ms/step\n",
            "Epoch 22/100\n",
            "858/858 - 1s - loss: 0.0014 - 1s/epoch - 1ms/step\n",
            "Epoch 23/100\n",
            "858/858 - 1s - loss: 0.0013 - 1s/epoch - 1ms/step\n",
            "Epoch 24/100\n",
            "858/858 - 1s - loss: 0.0013 - 1s/epoch - 1ms/step\n",
            "Epoch 25/100\n",
            "858/858 - 1s - loss: 0.0013 - 1s/epoch - 1ms/step\n",
            "Epoch 26/100\n",
            "858/858 - 1s - loss: 0.0013 - 1s/epoch - 1ms/step\n",
            "Epoch 27/100\n",
            "858/858 - 1s - loss: 0.0013 - 1s/epoch - 1ms/step\n",
            "Epoch 28/100\n",
            "858/858 - 1s - loss: 0.0013 - 1s/epoch - 1ms/step\n",
            "Epoch 29/100\n",
            "858/858 - 1s - loss: 0.0013 - 1s/epoch - 1ms/step\n",
            "Epoch 30/100\n",
            "858/858 - 1s - loss: 0.0013 - 1s/epoch - 1ms/step\n",
            "Epoch 31/100\n",
            "858/858 - 1s - loss: 0.0013 - 1s/epoch - 1ms/step\n",
            "Epoch 32/100\n",
            "858/858 - 1s - loss: 0.0013 - 1s/epoch - 1ms/step\n",
            "Epoch 33/100\n",
            "858/858 - 1s - loss: 0.0013 - 1s/epoch - 1ms/step\n",
            "Epoch 34/100\n",
            "858/858 - 1s - loss: 0.0013 - 1s/epoch - 1ms/step\n",
            "Epoch 35/100\n",
            "858/858 - 1s - loss: 0.0013 - 1s/epoch - 1ms/step\n",
            "Epoch 36/100\n",
            "858/858 - 1s - loss: 0.0014 - 1s/epoch - 1ms/step\n",
            "Epoch 37/100\n",
            "858/858 - 1s - loss: 0.0013 - 1s/epoch - 1ms/step\n",
            "Epoch 38/100\n",
            "858/858 - 1s - loss: 0.0013 - 1s/epoch - 1ms/step\n",
            "Epoch 39/100\n",
            "858/858 - 1s - loss: 0.0013 - 1s/epoch - 1ms/step\n",
            "Epoch 40/100\n",
            "858/858 - 1s - loss: 0.0014 - 1s/epoch - 1ms/step\n",
            "Epoch 41/100\n",
            "858/858 - 1s - loss: 0.0013 - 1s/epoch - 1ms/step\n",
            "Epoch 42/100\n",
            "858/858 - 1s - loss: 0.0013 - 1s/epoch - 1ms/step\n",
            "Epoch 43/100\n",
            "858/858 - 1s - loss: 0.0013 - 1s/epoch - 1ms/step\n",
            "Epoch 44/100\n",
            "858/858 - 1s - loss: 0.0013 - 1s/epoch - 1ms/step\n",
            "Epoch 45/100\n",
            "858/858 - 1s - loss: 0.0013 - 1s/epoch - 1ms/step\n",
            "Epoch 46/100\n",
            "858/858 - 1s - loss: 0.0013 - 1s/epoch - 1ms/step\n",
            "Epoch 47/100\n",
            "858/858 - 1s - loss: 0.0013 - 1s/epoch - 1ms/step\n",
            "Epoch 48/100\n",
            "858/858 - 1s - loss: 0.0013 - 1s/epoch - 1ms/step\n",
            "Epoch 49/100\n",
            "858/858 - 1s - loss: 0.0013 - 1s/epoch - 1ms/step\n",
            "Epoch 50/100\n",
            "858/858 - 1s - loss: 0.0013 - 1s/epoch - 1ms/step\n",
            "Epoch 51/100\n",
            "858/858 - 1s - loss: 0.0013 - 1s/epoch - 1ms/step\n",
            "Epoch 52/100\n",
            "858/858 - 1s - loss: 0.0013 - 1s/epoch - 1ms/step\n",
            "Epoch 53/100\n",
            "858/858 - 1s - loss: 0.0013 - 1s/epoch - 1ms/step\n",
            "Epoch 54/100\n",
            "858/858 - 1s - loss: 0.0013 - 1s/epoch - 1ms/step\n",
            "Epoch 55/100\n",
            "858/858 - 1s - loss: 0.0013 - 1s/epoch - 1ms/step\n",
            "Epoch 56/100\n",
            "858/858 - 1s - loss: 0.0013 - 1s/epoch - 1ms/step\n",
            "Epoch 57/100\n",
            "858/858 - 1s - loss: 0.0013 - 1s/epoch - 1ms/step\n",
            "Epoch 58/100\n",
            "858/858 - 1s - loss: 0.0013 - 1s/epoch - 1ms/step\n",
            "Epoch 59/100\n",
            "858/858 - 2s - loss: 0.0013 - 2s/epoch - 2ms/step\n",
            "Epoch 60/100\n",
            "858/858 - 1s - loss: 0.0013 - 1s/epoch - 2ms/step\n",
            "Epoch 61/100\n",
            "858/858 - 1s - loss: 0.0013 - 1s/epoch - 1ms/step\n",
            "Epoch 62/100\n",
            "858/858 - 1s - loss: 0.0013 - 1s/epoch - 1ms/step\n",
            "Epoch 63/100\n",
            "858/858 - 1s - loss: 0.0013 - 1s/epoch - 1ms/step\n",
            "Epoch 64/100\n",
            "858/858 - 1s - loss: 0.0013 - 1s/epoch - 1ms/step\n",
            "Epoch 65/100\n",
            "858/858 - 1s - loss: 0.0013 - 1s/epoch - 1ms/step\n",
            "Epoch 66/100\n",
            "858/858 - 1s - loss: 0.0013 - 1s/epoch - 1ms/step\n",
            "Epoch 67/100\n",
            "858/858 - 1s - loss: 0.0013 - 1s/epoch - 1ms/step\n",
            "Epoch 68/100\n",
            "858/858 - 1s - loss: 0.0013 - 1s/epoch - 1ms/step\n",
            "Epoch 69/100\n",
            "858/858 - 1s - loss: 0.0013 - 1s/epoch - 1ms/step\n",
            "Epoch 70/100\n",
            "858/858 - 1s - loss: 0.0013 - 1s/epoch - 1ms/step\n",
            "Epoch 71/100\n",
            "858/858 - 1s - loss: 0.0013 - 1s/epoch - 1ms/step\n",
            "Epoch 72/100\n",
            "858/858 - 1s - loss: 0.0013 - 1s/epoch - 1ms/step\n",
            "Epoch 73/100\n",
            "858/858 - 1s - loss: 0.0013 - 1s/epoch - 1ms/step\n",
            "Epoch 74/100\n",
            "858/858 - 1s - loss: 0.0013 - 1s/epoch - 1ms/step\n",
            "Epoch 75/100\n",
            "858/858 - 1s - loss: 0.0013 - 1s/epoch - 1ms/step\n",
            "Epoch 76/100\n",
            "858/858 - 1s - loss: 0.0013 - 1s/epoch - 1ms/step\n",
            "Epoch 77/100\n",
            "858/858 - 1s - loss: 0.0013 - 1s/epoch - 1ms/step\n",
            "Epoch 78/100\n",
            "858/858 - 1s - loss: 0.0013 - 1s/epoch - 1ms/step\n",
            "Epoch 79/100\n",
            "858/858 - 1s - loss: 0.0013 - 1s/epoch - 1ms/step\n",
            "Epoch 80/100\n",
            "858/858 - 1s - loss: 0.0013 - 1s/epoch - 1ms/step\n",
            "Epoch 81/100\n",
            "858/858 - 1s - loss: 0.0013 - 1s/epoch - 2ms/step\n",
            "Epoch 82/100\n",
            "858/858 - 1s - loss: 0.0013 - 1s/epoch - 2ms/step\n",
            "Epoch 83/100\n",
            "858/858 - 1s - loss: 0.0013 - 1s/epoch - 1ms/step\n",
            "Epoch 84/100\n",
            "858/858 - 1s - loss: 0.0013 - 1s/epoch - 1ms/step\n",
            "Epoch 85/100\n",
            "858/858 - 1s - loss: 0.0013 - 1s/epoch - 1ms/step\n",
            "Epoch 86/100\n",
            "858/858 - 1s - loss: 0.0013 - 1s/epoch - 1ms/step\n",
            "Epoch 87/100\n",
            "858/858 - 1s - loss: 0.0013 - 1s/epoch - 1ms/step\n",
            "Epoch 88/100\n",
            "858/858 - 1s - loss: 0.0013 - 1s/epoch - 1ms/step\n",
            "Epoch 89/100\n",
            "858/858 - 1s - loss: 0.0013 - 1s/epoch - 1ms/step\n",
            "Epoch 90/100\n",
            "858/858 - 1s - loss: 0.0013 - 1s/epoch - 1ms/step\n",
            "Epoch 91/100\n",
            "858/858 - 1s - loss: 0.0013 - 1s/epoch - 1ms/step\n",
            "Epoch 92/100\n",
            "858/858 - 1s - loss: 0.0013 - 1s/epoch - 1ms/step\n",
            "Epoch 93/100\n",
            "858/858 - 1s - loss: 0.0013 - 1s/epoch - 1ms/step\n",
            "Epoch 94/100\n",
            "858/858 - 1s - loss: 0.0013 - 1s/epoch - 1ms/step\n",
            "Epoch 95/100\n",
            "858/858 - 1s - loss: 0.0013 - 1s/epoch - 1ms/step\n",
            "Epoch 96/100\n",
            "858/858 - 1s - loss: 0.0013 - 1s/epoch - 1ms/step\n",
            "Epoch 97/100\n",
            "858/858 - 1s - loss: 0.0013 - 1s/epoch - 1ms/step\n",
            "Epoch 98/100\n",
            "858/858 - 1s - loss: 0.0013 - 1s/epoch - 1ms/step\n",
            "Epoch 99/100\n",
            "858/858 - 1s - loss: 0.0013 - 1s/epoch - 1ms/step\n",
            "Epoch 100/100\n",
            "858/858 - 1s - loss: 0.0013 - 1s/epoch - 1ms/step\n"
          ]
        },
        {
          "output_type": "execute_result",
          "data": {
            "text/plain": [
              "<keras.callbacks.History at 0x7fbebc6bdc10>"
            ]
          },
          "metadata": {},
          "execution_count": 40
        }
      ],
      "source": [
        "# create and fit the LSTM network\n",
        "model = Sequential()\n",
        "model.add(LSTM(4, input_shape=(1, look_back)))\n",
        "model.add(Dense(1))\n",
        "model.compile(loss='mean_squared_error', optimizer='adam')\n",
        "model.fit(trainX, trainY, epochs=100, batch_size=1, verbose=2)"
      ]
    },
    {
      "cell_type": "code",
      "execution_count": 41,
      "metadata": {
        "colab": {
          "base_uri": "https://localhost:8080/"
        },
        "id": "G4S-owIMjot5",
        "outputId": "359f6630-ecb7-483d-e04a-98cd5b758228"
      },
      "outputs": [
        {
          "output_type": "stream",
          "name": "stdout",
          "text": [
            "Train Score: 486979.18 RMSE\n",
            "Test Score: 825281.84 RMSE\n"
          ]
        }
      ],
      "source": [
        "# make predictions\n",
        "trainPredict = model.predict(trainX)\n",
        "testPredict = model.predict(testX)\n",
        "# invert predictions\n",
        "trainPredict = scaler.inverse_transform(trainPredict)\n",
        "trainY = scaler.inverse_transform([trainY])\n",
        "testPredict = scaler.inverse_transform(testPredict)\n",
        "testY = scaler.inverse_transform([testY])\n",
        "# calculate root mean squared error\n",
        "trainScore = math.sqrt(mean_squared_error(trainY[0], trainPredict[:,0]))\n",
        "print('Train Score: %.2f RMSE' % (trainScore))\n",
        "testScore = math.sqrt(mean_squared_error(testY[0], testPredict[:,0]))\n",
        "print('Test Score: %.2f RMSE' % (testScore))"
      ]
    },
    {
      "cell_type": "code",
      "execution_count": 42,
      "metadata": {
        "colab": {
          "base_uri": "https://localhost:8080/",
          "height": 276
        },
        "id": "NTU04ZlAjqkc",
        "outputId": "28806b04-e9e2-4693-d3fb-03fa8b7b5dbd"
      },
      "outputs": [
        {
          "output_type": "display_data",
          "data": {
            "text/plain": [
              "<Figure size 432x288 with 1 Axes>"
            ],
            "image/png": "[encoded data removed]"
          },
          "metadata": {
            "needs_background": "light"
          }
        }
      ],
      "source": [
        "# shift train predictions for plotting\n",
        "trainPredictPlot = numpy.empty_like(dataset)\n",
        "trainPredictPlot[:, :] = numpy.nan\n",
        "trainPredictPlot[look_back:len(trainPredict)+look_back, :] = trainPredict\n",
        "# shift test predictions for plotting\n",
        "testPredictPlot = numpy.empty_like(dataset)\n",
        "testPredictPlot[:, :] = numpy.nan\n",
        "testPredictPlot[len(trainPredict)+(look_back*2)+1:len(dataset)-1, :] = testPredict\n",
        "# plot baseline and predictions\n",
        "plt.plot(scaler.inverse_transform(dataset))\n",
        "plt.plot(trainPredictPlot)\n",
        "plt.plot(testPredictPlot)\n",
        "plt.show()"
      ]
    }
  ],
  "metadata": {
    "colab": {
      "name": "Time Series LSTM.ipynb",
      "provenance": [],
      "collapsed_sections": [],
      "mount_file_id": "1IwoeduUsf7AFZKrRRc_FQYQnUN3XmWAA",
      "authorship_tag": "ABX9TyPQrd8zmN7W1fyt++oEp4OO"
    },
    "kernelspec": {
      "display_name": "Python 3",
      "name": "python3"
    },
    "language_info": {
      "name": "python"
    }
  },
  "nbformat": 4,
  "nbformat_minor": 0
}